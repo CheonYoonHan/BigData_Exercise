{
 "cells": [
  {
   "cell_type": "markdown",
   "metadata": {},
   "source": [
    "# 201611113 천윤한"
   ]
  },
  {
   "cell_type": "markdown",
   "metadata": {},
   "source": [
    "## pyspark 기본 셋팅"
   ]
  },
  {
   "cell_type": "code",
   "execution_count": 1,
   "metadata": {},
   "outputs": [],
   "source": [
    "import os\n",
    "import pyspark\n",
    "\n",
    "myConf=pyspark.SparkConf()\n",
    "spark = pyspark.sql.SparkSession\\\n",
    "    .builder\\\n",
    "    .master(\"local\")\\\n",
    "    .appName(\"myApp\")\\\n",
    "    .config(conf=myConf)\\\n",
    "    .getOrCreate()"
   ]
  },
  {
   "cell_type": "markdown",
   "metadata": {},
   "source": [
    "## 문제: 2020년 8월 서울시 지하철호선별 역별 승하차 인원 정보."
   ]
  },
  {
   "cell_type": "markdown",
   "metadata": {},
   "source": [
    "### 1) DataFrame 생성하고, 스키마는 자동인식하여 출력"
   ]
  },
  {
   "cell_type": "markdown",
   "metadata": {},
   "source": [
    "**답**"
   ]
  },
  {
   "cell_type": "code",
   "execution_count": 2,
   "metadata": {},
   "outputs": [
    {
     "name": "stdout",
     "output_type": "stream",
     "text": [
      "root\n",
      " |-- 사용일자: string (nullable = true)\n",
      " |-- 노선명: string (nullable = true)\n",
      " |-- 역ID: string (nullable = true)\n",
      " |-- 역명: string (nullable = true)\n",
      " |-- 승차총승객수: string (nullable = true)\n",
      " |-- 하차총승객수: string (nullable = true)\n",
      " |-- 등록일자: string (nullable = true)\n",
      "\n",
      "+--------+------+-----------------------+-----+------------+------------+--------+\n",
      "|사용일자|노선명|                   역ID| 역명|승차총승객수|하차총승객수|등록일자|\n",
      "+--------+------+-----------------------+-----+------------+------------+--------+\n",
      "|20200801|중앙선|                   오빈|  249|         239|    20200804|    null|\n",
      "|20200801|중앙선|                   아신|  467|         595|    20200804|    null|\n",
      "|20200801|중앙선|                   국수|  520|         598|    20200804|    null|\n",
      "|20200801| 2호선|                 한양대| 3244|        3022|    20200804|    null|\n",
      "|20200801| 2호선|       왕십리(성동구청)|11110|        9769|    20200804|    null|\n",
      "|20200801| 2호선|               상왕십리| 8110|        7289|    20200804|    null|\n",
      "|20200801| 2호선|                   신당| 8703|        8731|    20200804|    null|\n",
      "|20200801| 2호선|동대문역사문화공원(DDP)| 8183|        8474|    20200804|    null|\n",
      "|20200801| 2호선|              을지로4가| 5103|        5207|    20200804|    null|\n",
      "|20200801| 2호선|              을지로3가| 7714|        7826|    20200804|    null|\n",
      "|20200801| 2호선|             을지로입구|17597|       17387|    20200804|    null|\n",
      "|20200801| 2호선|                   시청| 5908|        5313|    20200804|    null|\n",
      "|20200801| 1호선| 청량리(서울시립대입구)|15186|       15126|    20200804|    null|\n",
      "|20200801| 1호선|                 제기동|10652|       10614|    20200804|    null|\n",
      "|20200801| 1호선|                 신설동| 7507|        7209|    20200804|    null|\n",
      "|20200801| 1호선|                 동대문| 9290|        9591|    20200804|    null|\n",
      "|20200801| 1호선|                종로5가|14190|       14490|    20200804|    null|\n",
      "|20200801| 1호선|                종로3가|17935|       17664|    20200804|    null|\n",
      "|20200801| 1호선|                   종각|16751|       16845|    20200804|    null|\n",
      "|20200801|안산선|                   정왕| 4547|        4651|    20200804|    null|\n",
      "+--------+------+-----------------------+-----+------------+------------+--------+\n",
      "only showing top 20 rows\n",
      "\n"
     ]
    }
   ],
   "source": [
    "from pyspark.sql.types import *\n",
    "\n",
    "Subdf = spark.read.format('csv')\\\n",
    "    .option(\"header\",'True')\\\n",
    "    .option(\"encoding\", \"utf-8\")\\\n",
    "    .load('data/CARD_SUBWAY_MONTH_202008.csv')\n",
    "Subdf.printSchema()\n",
    "Subdf.show()"
   ]
  },
  {
   "cell_type": "markdown",
   "metadata": {},
   "source": [
    "### 2) 컬럼명을 변경하고, 스키마 출력"
   ]
  },
  {
   "cell_type": "markdown",
   "metadata": {},
   "source": [
    "**답**"
   ]
  },
  {
   "cell_type": "code",
   "execution_count": 3,
   "metadata": {},
   "outputs": [
    {
     "name": "stdout",
     "output_type": "stream",
     "text": [
      "root\n",
      " |-- dateUse: integer (nullable = true)\n",
      " |-- line: string (nullable = true)\n",
      " |-- stationID: string (nullable = true)\n",
      " |-- station: integer (nullable = true)\n",
      " |-- NInPassengers: integer (nullable = true)\n",
      " |-- NOutPassengers: integer (nullable = true)\n",
      " |-- dateRegi: date (nullable = true)\n",
      "\n"
     ]
    }
   ],
   "source": [
    "from pyspark.sql.types import *\n",
    "\n",
    "SubSchema=StructType([\n",
    "    StructField(\"사용일자\", IntegerType(), True),\n",
    "    StructField(\"노션명\", StringType(), True),\n",
    "    StructField(\"역ID\", StringType(), True),\n",
    "    StructField(\"역명\", IntegerType(), True),\n",
    "    StructField(\"승차총승객수\", IntegerType(), True),\n",
    "    StructField(\"하차총승객수\", IntegerType(), True),\n",
    "    StructField(\"등록일자\", DateType(), True),\n",
    "])\n",
    "\n",
    "Subdf = spark.read.format('csv')\\\n",
    "    .option(\"header\",'True')\\\n",
    "    .option(\"encoding\", \"utf-8\")\\\n",
    "    .schema(SubSchema)\\\n",
    "    .load('data/CARD_SUBWAY_MONTH_202008.csv')\n",
    "\n",
    "Subdf=Subdf.withColumnRenamed('사용일자','dateUse')\n",
    "Subdf=Subdf.withColumnRenamed('노션명','line')\n",
    "Subdf=Subdf.withColumnRenamed('역ID','stationID')\n",
    "Subdf=Subdf.withColumnRenamed('역명','station')\n",
    "Subdf=Subdf.withColumnRenamed('승차총승객수','NInPassengers')\n",
    "Subdf=Subdf.withColumnRenamed('하차총승객수','NOutPassengers')\n",
    "Subdf=Subdf.withColumnRenamed('등록일자','dateRegi')\n",
    "Subdf.printSchema()"
   ]
  },
  {
   "cell_type": "markdown",
   "metadata": {},
   "source": [
    "### 3) 노선별 승하차합계가 가장 높은 역을 출력 (모든 노선 출력)"
   ]
  },
  {
   "cell_type": "markdown",
   "metadata": {},
   "source": [
    "**답**"
   ]
  },
  {
   "cell_type": "code",
   "execution_count": 4,
   "metadata": {},
   "outputs": [
    {
     "name": "stdout",
     "output_type": "stream",
     "text": [
      "+-----------------------+-------------+\n",
      "|              stationID|sum(SumInOut)|\n",
      "+-----------------------+-------------+\n",
      "|                 서울역|   3152985123|\n",
      "|                   공덕|   2505752605|\n",
      "|             고속터미널|   1880476174|\n",
      "|               홍대입구|   1880332585|\n",
      "|                종로3가|   1879810855|\n",
      "|       왕십리(성동구청)|   1879521640|\n",
      "|동대문역사문화공원(DDP)|   1879365455|\n",
      "|               김포공항|   1879322273|\n",
      "|       디지털미디어시티|   1879313860|\n",
      "|                 신설동|   1879114406|\n",
      "|         잠실(송파구청)|   1254402829|\n",
      "|                   선릉|   1253981743|\n",
      "|                   사당|   1253931497|\n",
      "|         가산디지털단지|   1253853569|\n",
      "|                 신도림|   1253740287|\n",
      "|               건대입구|   1253692916|\n",
      "|                   합정|   1253533972|\n",
      "|                   수원|   1253526232|\n",
      "|                 여의도|   1253524432|\n",
      "|      교대(법원.검찰청)|   1253518074|\n",
      "+-----------------------+-------------+\n",
      "only showing top 20 rows\n",
      "\n"
     ]
    }
   ],
   "source": [
    "from pyspark.sql.functions import udf\n",
    "\n",
    "sum_udf=udf(lambda x,y:x+y, IntegerType())\n",
    "sumdf = Subdf.withColumn(\"SumInOut\",sum_udf(Subdf.NInPassengers, Subdf.NOutPassengers))\n",
    "group_data=sumdf.groupBy('stationID').agg({'SumInOut':'sum'})\n",
    "group_data=group_data.orderBy(group_data['sum(SumInOut)'].desc()).show()"
   ]
  },
  {
   "cell_type": "markdown",
   "metadata": {},
   "source": [
    "### 4) 노선별 요일별 승하차인원 합계 (모든 노선 출력)"
   ]
  },
  {
   "cell_type": "markdown",
   "metadata": {},
   "source": [
    "**답**"
   ]
  },
  {
   "cell_type": "code",
   "execution_count": 5,
   "metadata": {},
   "outputs": [
    {
     "name": "stdout",
     "output_type": "stream",
     "text": [
      "+----------+----------+----------+----------+----------+----------+----------+----------+\n",
      "|      line|    Friday|    Monday|  Saterday|    Sunday|  Thursday|   Tuesday| Wednesday|\n",
      "+----------+----------+----------+----------+----------+----------+----------+----------+\n",
      "|    일산선| 808395124|1010437381|1010319451|1010235636| 808383940| 808393127| 808392796|\n",
      "|    장항선| 484860929| 606069487| 606063946| 606058420| 484854907| 484857571| 484857468|\n",
      "|    경부선|3152874143|3940824196|3940449561|3940133615|3152768029|3152789327|3152794978|\n",
      "|우이신설선|1050583774|1313216004|1313167396|1313141053|1050582715|1050586483|1050587942|\n",
      "|    분당선|2809238836|3435543817|3455281248|3434771069|2788970586|2789009658|2768803828|\n",
      "|     7호선|4123433410|5153934706|5152897879|5152372864|4123394044|4123436711|4123433745|\n",
      "|    수인선|1050588760|1313214661|1313171127|1313138823|1050582601|1050584965|1050586007|\n",
      "|    안산선|1050846248|1313503526|1313393601|1313300973|1050826620|1050840359|1050838751|\n",
      "|     4호선|2102629179|2627972877|2627425802|2627003684|2102581482|2102588996|2102590630|\n",
      "|     1호선| 808840770|1010902468|1010677910|1010442174| 808804370| 808813210| 808797690|\n",
      "|    경의선|2141642803|2646697558|2646561932|2646494734|2121429983|2121436128|2121433286|\n",
      "|     3호선|2708784505|3415913093|3354722587|3374445602|2688499281|2708723859|2708711680|\n",
      "|    경강선| 888930088|1090945973|1111121523|1111105700| 888923196| 868723718| 888926255|\n",
      "|    경춘선|1535387760|1919221212|1919196396|1919167433|1535380993|1535382747|1535383086|\n",
      "|     9호선|2021107122|2526177609|2525784137|2525583827|2021068190|2021074069|2021062632|\n",
      "|     6호선|3031250674|3798984557|3798594037|3818552063|3091829677|3031240634|3031242266|\n",
      "|     5호선|4244326342|5315167094|5314273162|5313799053|4244300204|4244334032|4244325671|\n",
      "|     8호선|1374322875|1717805968|1717544282|1717409954|1374304672|1374321055|1374320670|\n",
      "|    과천선| 646761679| 808392943| 808256281| 808185423| 646752103| 646758203| 646760792|\n",
      "|    경인선|1617072711|2021192027|2020923212|2020665884|1617026950|1617048535|1617052844|\n",
      "+----------+----------+----------+----------+----------+----------+----------+----------+\n",
      "only showing top 20 rows\n",
      "\n"
     ]
    }
   ],
   "source": [
    "sumdf=sumdf.withColumn(\"date\",sumdf.dateUse.substr(7, 2))\n",
    "\n",
    "def classday(s):\n",
    "    q=\"\"\n",
    "    if s==\"01\" or s==\"08\" or s==\"15\" or s==\"22\" or s==\"29\":\n",
    "        q=\"Saterday\"\n",
    "    elif s==\"02\" or s==\"09\" or s==\"16\" or s==\"23\" or s==\"30\":\n",
    "        q=\"Sunday\"\n",
    "    elif s==\"03\" or s==\"10\" or s==\"17\" or s==\"24\" or s==\"31\":\n",
    "        q=\"Monday\"\n",
    "    elif s==\"04\" or s==\"11\" or s==\"18\" or s==\"25\":\n",
    "        q=\"Tuesday\"\n",
    "    elif s==\"05\" or s==\"12\" or s==\"19\" or s==\"26\":\n",
    "        q=\"Wednesday\"\n",
    "    elif s==\"06\" or s==\"13\" or s==\"20\" or s==\"27\":\n",
    "        q=\"Thursday\"\n",
    "    elif s==\"07\" or s==\"14\" or s==\"21\" or s==\"28\":\n",
    "        q=\"Friday\"\n",
    "    else:\n",
    "        q=\"no\"\n",
    "    return q\n",
    "day_udf = udf(classday, StringType())\n",
    "sumdf=sumdf.withColumn(\"day\", day_udf(sumdf.date))\n",
    "sumdf.groupBy('line').pivot('day').agg({\"SumInOut\":\"sum\"}).show()"
   ]
  },
  {
   "cell_type": "markdown",
   "metadata": {},
   "source": [
    "### 5) 노선별 요일별 승하차인원 그래프"
   ]
  },
  {
   "cell_type": "markdown",
   "metadata": {},
   "source": [
    "**답**"
   ]
  },
  {
   "cell_type": "code",
   "execution_count": 6,
   "metadata": {},
   "outputs": [
    {
     "data": {
      "text/plain": [
       "<matplotlib.axes._subplots.AxesSubplot at 0x1ba44873460>"
      ]
     },
     "execution_count": 6,
     "metadata": {},
     "output_type": "execute_result"
    },
    {
     "data": {
      "image/png": "[encoded data removed]",
      "text/plain": [
       "<Figure size 432x288 with 1 Axes>"
      ]
     },
     "metadata": {
      "needs_background": "light"
     },
     "output_type": "display_data"
    }
   ],
   "source": [
    "import pandas as pd\n",
    "import numpy as np\n",
    "\n",
    "from matplotlib import font_manager, rc\n",
    "font_name = font_manager.FontProperties(fname=\"c:/Windows/Fonts/malgun.ttf\").get_name()\n",
    "rc('font', family=font_name)\n",
    "\n",
    "sumDay=sumdf.groupBy('line').pivot('day').agg({\"SumInOut\":\"sum\"})\n",
    "pdf=sumDay.toPandas()\n",
    "my=pdf.drop('line', 1).transpose()\n",
    "my.columns=[\"일산선\", \"장항선\", \"경부선\", \"우이신설선\", \"분당선\", \"7호선\", \"수인선\", \"안산선\", \"4호선\", \"1호선\", \"경의선\", \"3호선\", \"경강선\", \"경춘선\", \"9호선\", \"6호선\", \"5호선\", \"8호선\", \"과천선\", \"경인선\", \"중앙선\",\"9호선2~3단계\", \"2호선\",\"공항철도1호선\", \"경원선\"]\n",
    "my.plot(kind='line')"
   ]
  },
  {
   "cell_type": "markdown",
   "metadata": {},
   "source": [
    "## 문제: 한국의 코로나바이러스"
   ]
  },
  {
   "cell_type": "markdown",
   "metadata": {},
   "source": [
    "### 1) DataFrame 생성하고, 자동인식한 스키마를 출력"
   ]
  },
  {
   "cell_type": "markdown",
   "metadata": {},
   "source": [
    "**답**"
   ]
  },
  {
   "cell_type": "code",
   "execution_count": 7,
   "metadata": {},
   "outputs": [
    {
     "name": "stdout",
     "output_type": "stream",
     "text": [
      "root\n",
      " |-- date: string (nullable = true)\n",
      " |-- time: string (nullable = true)\n",
      " |-- province: string (nullable = true)\n",
      " |-- confirmed: string (nullable = true)\n",
      " |-- released: string (nullable = true)\n",
      " |-- deceased: string (nullable = true)\n",
      "\n"
     ]
    }
   ],
   "source": [
    "virusdf = spark.read.format('csv')\\\n",
    "    .option(\"header\",'True')\\\n",
    "    .option(\"encoding\", \"utf-8\")\\\n",
    "    .load('data/TimeProvince.csv')\n",
    "virusdf.printSchema()"
   ]
  },
  {
   "cell_type": "markdown",
   "metadata": {},
   "source": [
    "### 2) 3월의 데이터만 출력"
   ]
  },
  {
   "cell_type": "markdown",
   "metadata": {},
   "source": [
    "**답**"
   ]
  },
  {
   "cell_type": "code",
   "execution_count": 8,
   "metadata": {},
   "outputs": [
    {
     "name": "stdout",
     "output_type": "stream",
     "text": [
      "+----------+----+-----------------+---------+--------+--------+\n",
      "|      date|time|         province|confirmed|released|deceased|\n",
      "+----------+----+-----------------+---------+--------+--------+\n",
      "|2020-03-01|  16|            Seoul|       87|      11|       0|\n",
      "|2020-03-01|  16|            Busan|       83|       0|       0|\n",
      "|2020-03-01|  16|            Daegu|     2704|       6|      11|\n",
      "|2020-03-01|  16|          Incheon|        6|       1|       0|\n",
      "|2020-03-01|  16|          Gwangju|        9|       2|       0|\n",
      "|2020-03-01|  16|          Daejeon|       13|       0|       0|\n",
      "|2020-03-01|  16|            Ulsan|       20|       0|       0|\n",
      "|2020-03-01|  16|           Sejong|        1|       0|       0|\n",
      "|2020-03-01|  16|      Gyeonggi-do|       89|       8|       1|\n",
      "|2020-03-01|  16|       Gangwon-do|       15|       0|       0|\n",
      "|2020-03-01|  16|Chungcheongbuk-do|       11|       0|       0|\n",
      "|2020-03-01|  16|Chungcheongnam-do|       68|       0|       0|\n",
      "|2020-03-01|  16|     Jeollabuk-do|        6|       1|       0|\n",
      "|2020-03-01|  16|     Jeollanam-do|        3|       0|       0|\n",
      "|2020-03-01|  16| Gyeongsangbuk-do|      556|       1|       6|\n",
      "|2020-03-01|  16| Gyeongsangnam-do|       63|       1|       0|\n",
      "|2020-03-01|  16|          Jeju-do|        2|       0|       0|\n",
      "|2020-03-02|   0|            Seoul|       91|      12|       0|\n",
      "|2020-03-02|   0|            Busan|       88|       1|       0|\n",
      "|2020-03-02|   0|            Daegu|     3081|       7|      15|\n",
      "+----------+----+-----------------+---------+--------+--------+\n",
      "only showing top 20 rows\n",
      "\n"
     ]
    }
   ],
   "source": [
    "march_udf = udf(lambda x: x[5:7],StringType())\n",
    "virusdf.filter(march_udf(virusdf.date)==\"03\").show()"
   ]
  },
  {
   "cell_type": "markdown",
   "metadata": {},
   "source": [
    "### 3) 년x월별 건수"
   ]
  },
  {
   "cell_type": "markdown",
   "metadata": {},
   "source": [
    "**답**"
   ]
  },
  {
   "cell_type": "code",
   "execution_count": 9,
   "metadata": {
    "scrolled": true
   },
   "outputs": [
    {
     "name": "stdout",
     "output_type": "stream",
     "text": [
      "+----+---+-----+------+------+------+------+\n",
      "|year| 01|   02|    03|    04|    05|    06|\n",
      "+----+---+-----+------+------+------+------+\n",
      "|2020| 41|12153|241505|304109|326967|346403|\n",
      "+----+---+-----+------+------+------+------+\n",
      "\n"
     ]
    }
   ],
   "source": [
    "from pyspark.sql.functions import udf\n",
    "from pyspark.sql.types import StringType\n",
    "\n",
    "virusSchema=StructType([\n",
    "    StructField(\"date\", StringType(), True),\n",
    "    StructField(\"time\", StringType(), True),\n",
    "    StructField(\"province\", StringType(), True),\n",
    "    StructField(\"confirmed\", IntegerType(), True),\n",
    "    StructField(\"released\", IntegerType(), True),\n",
    "    StructField(\"deceased\", IntegerType(), True),\n",
    "])\n",
    "\n",
    "virusDf = spark.read.format('csv')\\\n",
    "    .option(\"header\",'True')\\\n",
    "    .option(\"encoding\", \"utf-8\")\\\n",
    "    .schema(virusSchema)\\\n",
    "    .load('data/TimeProvince.csv')\n",
    "\n",
    "year_udf = udf(lambda x: x[:4],StringType())\n",
    "month_udf = udf(lambda x: x[5:7],StringType())\n",
    "ym_virusDf = virusDf.withColumn(\"year\",year_udf(virusDf.date)).withColumn(\"month\",month_udf(virusDf.date))\n",
    "ym_virusDf.groupBy('year').pivot('month').agg({\"confirmed\":\"sum\"}).show()"
   ]
  },
  {
   "cell_type": "markdown",
   "metadata": {},
   "source": [
    "### 4) 도별 첫 확진자 출현 (모든 도 출력)"
   ]
  },
  {
   "cell_type": "markdown",
   "metadata": {},
   "source": [
    "**답**"
   ]
  },
  {
   "cell_type": "code",
   "execution_count": 10,
   "metadata": {},
   "outputs": [
    {
     "name": "stdout",
     "output_type": "stream",
     "text": [
      "+-----------------+----------+\n",
      "|         province| min(date)|\n",
      "+-----------------+----------+\n",
      "|           Sejong|2020-01-20|\n",
      "|            Ulsan|2020-01-20|\n",
      "|Chungcheongbuk-do|2020-01-20|\n",
      "|       Gangwon-do|2020-01-20|\n",
      "|          Gwangju|2020-01-20|\n",
      "| Gyeongsangbuk-do|2020-01-20|\n",
      "|            Daegu|2020-01-20|\n",
      "| Gyeongsangnam-do|2020-01-20|\n",
      "|          Incheon|2020-01-20|\n",
      "|          Jeju-do|2020-01-20|\n",
      "|      Gyeonggi-do|2020-01-20|\n",
      "|            Busan|2020-01-20|\n",
      "|          Daejeon|2020-01-20|\n",
      "|            Seoul|2020-01-20|\n",
      "|Chungcheongnam-do|2020-01-20|\n",
      "|     Jeollabuk-do|2020-01-20|\n",
      "|     Jeollanam-do|2020-01-20|\n",
      "+-----------------+----------+\n",
      "\n"
     ]
    }
   ],
   "source": [
    "virusDf.groupBy('province').agg({\"date\":'min'}).show()"
   ]
  },
  {
   "cell_type": "markdown",
   "metadata": {},
   "source": [
    "### 5) 도별 누적 확진자 (마지막 일 6월 30일 기준, 모든 도 출력)"
   ]
  },
  {
   "cell_type": "markdown",
   "metadata": {},
   "source": [
    "**답**"
   ]
  },
  {
   "cell_type": "code",
   "execution_count": 11,
   "metadata": {},
   "outputs": [
    {
     "name": "stdout",
     "output_type": "stream",
     "text": [
      "+-----------------+--------------+\n",
      "|         province|sum(confirmed)|\n",
      "+-----------------+--------------+\n",
      "|           Sejong|          5111|\n",
      "|            Ulsan|          5269|\n",
      "|Chungcheongbuk-do|          5801|\n",
      "|       Gangwon-do|          5908|\n",
      "|          Gwangju|          3359|\n",
      "| Gyeongsangbuk-do|        161079|\n",
      "|            Daegu|        807506|\n",
      "| Gyeongsangnam-do|         13860|\n",
      "|          Incheon|         16645|\n",
      "|          Jeju-do|          1449|\n",
      "|      Gyeonggi-do|         81059|\n",
      "|            Busan|         16341|\n",
      "|          Daejeon|          5217|\n",
      "|            Seoul|         81923|\n",
      "|Chungcheongnam-do|         16780|\n",
      "|     Jeollabuk-do|          2108|\n",
      "|     Jeollanam-do|          1763|\n",
      "+-----------------+--------------+\n",
      "\n"
     ]
    }
   ],
   "source": [
    "virusDf.groupBy('province').agg({\"confirmed\":\"sum\"}).show()"
   ]
  },
  {
   "cell_type": "markdown",
   "metadata": {},
   "source": [
    "## 문제 S-3: 키, 몸무게 상관관계"
   ]
  },
  {
   "cell_type": "markdown",
   "metadata": {},
   "source": [
    "### 1) DataFrame 생성하고, 스키마를 출력"
   ]
  },
  {
   "cell_type": "markdown",
   "metadata": {},
   "source": [
    "**답**"
   ]
  },
  {
   "cell_type": "code",
   "execution_count": 12,
   "metadata": {},
   "outputs": [
    {
     "name": "stdout",
     "output_type": "stream",
     "text": [
      "root\n",
      " |-- id: integer (nullable = true)\n",
      " |-- weight: float (nullable = true)\n",
      " |-- height: float (nullable = true)\n",
      "\n"
     ]
    }
   ],
   "source": [
    "wh_Schema = StructType([\n",
    "    StructField(\"id\", IntegerType(), True),\n",
    "    StructField(\"weight\", FloatType(), True),\n",
    "    StructField(\"height\", FloatType(), True)\n",
    "])\n",
    "wh_Df = spark\\\n",
    "    .read\\\n",
    "    .options(header='false', inferschema='true', delimiter='\\t')\\\n",
    "    .schema(wh_Schema)\\\n",
    "    .csv(os.path.join('data', 'ds_spark_heightweight.txt'))\n",
    "wh_Df.printSchema()"
   ]
  },
  {
   "cell_type": "markdown",
   "metadata": {},
   "source": [
    "### 2) BMI 컬럼 생성"
   ]
  },
  {
   "cell_type": "markdown",
   "metadata": {},
   "source": [
    "**답**"
   ]
  },
  {
   "cell_type": "code",
   "execution_count": 13,
   "metadata": {},
   "outputs": [
    {
     "name": "stdout",
     "output_type": "stream",
     "text": [
      "+---+------+------+---------+\n",
      "| id|weight|height|      BMI|\n",
      "+---+------+------+---------+\n",
      "|  1| 65.78|112.99| 51.52451|\n",
      "|  2| 71.52|136.49|38.390675|\n",
      "|  3|  69.4|153.03|29.635094|\n",
      "|  4| 68.22|142.34|33.671143|\n",
      "|  5| 67.79| 144.3| 32.55614|\n",
      "|  6|  68.7| 123.3| 45.18877|\n",
      "|  7|  69.8|141.49|34.866142|\n",
      "|  8| 70.01|136.46|37.596664|\n",
      "|  9|  67.9|112.37|53.773586|\n",
      "| 10| 66.78|120.67|45.861454|\n",
      "| 11| 66.49|127.45| 40.93329|\n",
      "| 12| 67.62|114.14|51.903835|\n",
      "| 13|  68.3|125.61| 43.28847|\n",
      "| 14| 67.12|122.46| 44.75726|\n",
      "| 15| 68.28|116.09|50.664513|\n",
      "| 16| 71.09| 140.0| 36.27041|\n",
      "| 17| 66.46| 129.5|39.629704|\n",
      "| 18| 68.65|142.97|33.585415|\n",
      "| 19| 71.23| 137.9|37.457127|\n",
      "| 20| 67.13|124.04|  43.6308|\n",
      "+---+------+------+---------+\n",
      "only showing top 20 rows\n",
      "\n"
     ]
    }
   ],
   "source": [
    "height_udf = udf(lambda x: x/100, FloatType())\n",
    "BMI_udf = udf(lambda x,y:x/(y**2),FloatType())\n",
    "BMI_df = wh_Df.withColumn(\"BMI\",BMI_udf(wh_Df.weight, height_udf(wh_Df.height)))\n",
    "BMI_df.show()"
   ]
  },
  {
   "cell_type": "markdown",
   "metadata": {},
   "source": [
    "### 3) weigth와 height의 Zscore 컬럼 생성"
   ]
  },
  {
   "cell_type": "markdown",
   "metadata": {},
   "source": [
    "**답**"
   ]
  },
  {
   "cell_type": "code",
   "execution_count": 14,
   "metadata": {},
   "outputs": [
    {
     "name": "stdout",
     "output_type": "stream",
     "text": [
      "+---+------+------+-----------+------------+\n",
      "| id|weight|height|    zscoreW|     zscoreH|\n",
      "+---+------+------+-----------+------------+\n",
      "|  1| 65.78|112.99| -1.2458475|  -1.2298968|\n",
      "|  2| 71.52|136.49|  1.9011154|  0.59337974|\n",
      "|  3|  69.4|153.03|  0.7388248|   1.8766551|\n",
      "|  4| 68.22|142.34| 0.09188773|   1.0472584|\n",
      "|  5| 67.79| 144.3|-0.14386062|   1.1993278|\n",
      "|  6|  68.7| 123.3| 0.35504615| -0.42998254|\n",
      "|  7|  69.8|141.49| 0.95812625|   0.9813108|\n",
      "|  8| 70.01|136.46|  1.0732585|  0.59105223|\n",
      "|  9|  67.9|112.37|-0.08355261|  -1.2779998|\n",
      "| 10| 66.78|120.67| -0.6975959| -0.63403463|\n",
      "| 11| 66.49|127.45| -0.8565894|-0.108000234|\n",
      "| 12| 67.62|114.14|-0.23706238|  -1.1406724|\n",
      "| 13|  68.3|125.61| 0.13574886|  -0.2507586|\n",
      "| 14| 67.12|122.46|-0.51118815| -0.49515525|\n",
      "| 15| 68.28|116.09| 0.12478149|  -0.9893796|\n",
      "| 16| 71.09| 140.0|  1.6653671|   0.8657069|\n",
      "| 17| 66.46| 129.5| -0.8730362|  0.05105173|\n",
      "| 18| 68.65|142.97|  0.3276361|    1.096138|\n",
      "| 19| 71.23| 137.9|  1.7421262|   0.7027754|\n",
      "| 20| 67.13|124.04| -0.5057087|  -0.3725689|\n",
      "+---+------+------+-----------+------------+\n",
      "only showing top 20 rows\n",
      "\n"
     ]
    }
   ],
   "source": [
    "from pyspark.sql import functions as F\n",
    "\n",
    "wh_Df=wh_Df.withColumn('weightF', wh_Df['weight']).withColumn('heightF', wh_Df['height'])\n",
    "\n",
    "weightStats = wh_Df.select(\n",
    "    F.mean('weightF').alias('mean'),\n",
    "    F.stddev('weightF').alias('std')).collect()\n",
    "meanWeight = weightStats[0]['mean']\n",
    "stdWeight = weightStats[0]['std']\n",
    "\n",
    "heightStats = wh_Df.select(\n",
    "    F.mean('heightF').alias('mean'),\n",
    "    F.stddev('heightF').alias('std')).collect()\n",
    "meanHeight = heightStats[0]['mean']\n",
    "stdHeight = heightStats[0]['std']\n",
    "\n",
    "zscoreW_udf = F.udf(lambda x: (x-meanWeight)/stdWeight, FloatType()) \n",
    "zscoreH_udf = F.udf(lambda x: (x-meanHeight)/stdHeight, FloatType()) \n",
    "wh_Df=wh_Df.withColumn(\"zscoreW\", zscoreW_udf(wh_Df['weightF'])).withColumn(\"zscoreH\", zscoreH_udf(wh_Df['heightF']))\n",
    "wh_Df.select('id', 'weight', 'height', 'zscoreW', 'zscoreH').show()"
   ]
  },
  {
   "cell_type": "markdown",
   "metadata": {},
   "source": [
    "### 4) spark에서 위에 계산한 zscore를 사용하여 상관관계 계산"
   ]
  },
  {
   "cell_type": "markdown",
   "metadata": {},
   "source": [
    "**답**"
   ]
  },
  {
   "cell_type": "code",
   "execution_count": 15,
   "metadata": {},
   "outputs": [
    {
     "data": {
      "text/plain": [
       "0.5925222361043136"
      ]
     },
     "execution_count": 15,
     "metadata": {},
     "output_type": "execute_result"
    }
   ],
   "source": [
    "import numpy as np\n",
    "import math\n",
    "\n",
    "wh_P=wh_Df.toPandas()\n",
    "zscoreW_list=wh_P.zscoreW.tolist()\n",
    "zscoreH_list=wh_P.zscoreH.tolist()\n",
    "\n",
    "def pearson(X,Y):\n",
    "    numer=np.sum(np.array(X)*np.array(Y)) - len(X)*np.mean(X)*np.mean(Y)\n",
    "    denom1=np.sum(np.array(X)*np.array(X)) - len(X)*np.power(np.mean(X),2)\n",
    "    denom2=np.sum(np.array(Y)*np.array(Y)) - len(Y)*np.power(np.mean(Y),2)\n",
    "    denom=np.sqrt(denom1*denom2)\n",
    "    #print(numer,denom,numer/denom)\n",
    "    r=1 if denom==0 else numer/denom\n",
    "    return r\n",
    "\n",
    "pearson(zscoreW_list, zscoreH_list)"
   ]
  },
  {
   "cell_type": "markdown",
   "metadata": {},
   "source": [
    "### 5) scipy를 사용하여 상관관계를 계산"
   ]
  },
  {
   "cell_type": "markdown",
   "metadata": {},
   "source": [
    "**답**"
   ]
  },
  {
   "cell_type": "code",
   "execution_count": 16,
   "metadata": {},
   "outputs": [
    {
     "data": {
      "text/plain": [
       "(0.5925222361043136, 5.808530072641946e-06)"
      ]
     },
     "execution_count": 16,
     "metadata": {},
     "output_type": "execute_result"
    }
   ],
   "source": [
    "import scipy.stats as stats\n",
    "stats.pearsonr(zscoreW_list, zscoreH_list)"
   ]
  }
 ],
 "metadata": {
  "kernelspec": {
   "display_name": "Python 3",
   "language": "python",
   "name": "python3"
  },
  "language_info": {
   "codemirror_mode": {
    "name": "ipython",
    "version": 3
   },
   "file_extension": ".py",
   "mimetype": "text/x-python",
   "name": "python",
   "nbconvert_exporter": "python",
   "pygments_lexer": "ipython3",
   "version": "3.8.3"
  }
 },
 "nbformat": 4,
 "nbformat_minor": 4
}

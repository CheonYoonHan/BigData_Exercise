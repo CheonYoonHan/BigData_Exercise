{
 "cells": [
  {
   "cell_type": "markdown",
   "metadata": {},
   "source": [
    "# 서울시 자전거 대여건수"
   ]
  },
  {
   "cell_type": "markdown",
   "metadata": {},
   "source": [
    "## pyspark 기본 셋팅"
   ]
  },
  {
   "cell_type": "code",
   "execution_count": 1,
   "metadata": {},
   "outputs": [],
   "source": [
    "import os\n",
    "import sys\n",
    "import pyspark\n",
    "\n",
    "myConf=pyspark.SparkConf()\n",
    "spark = pyspark.sql.SparkSession\\\n",
    "    .builder\\\n",
    "    .master(\"local\")\\\n",
    "    .appName(\"myApp\")\\\n",
    "    .config(conf=myConf)\\\n",
    "    .getOrCreate()"
   ]
  },
  {
   "cell_type": "markdown",
   "metadata": {},
   "source": [
    "## DataFrame 생성"
   ]
  },
  {
   "cell_type": "code",
   "execution_count": 2,
   "metadata": {},
   "outputs": [
    {
     "name": "stdout",
     "output_type": "stream",
     "text": [
      "+----------+-----+\n",
      "|      DATE|COUNT|\n",
      "+----------+-----+\n",
      "|2018-01-01| 4950|\n",
      "|2018-01-02| 7136|\n",
      "|2018-01-03| 7156|\n",
      "|2018-01-04| 7102|\n",
      "|2018-01-05| 7705|\n",
      "|2018-01-06| 5681|\n",
      "|2018-01-07| 5220|\n",
      "|2018-01-08| 6309|\n",
      "|2018-01-09| 5988|\n",
      "|2018-01-10| 4476|\n",
      "|2018-01-11| 4337|\n",
      "|2018-01-12| 4401|\n",
      "|2018-01-13| 3756|\n",
      "|2018-01-14| 4675|\n",
      "|2018-01-15| 6993|\n",
      "|2018-01-16| 7421|\n",
      "|2018-01-17| 6990|\n",
      "|2018-01-18| 7054|\n",
      "|2018-01-19| 8329|\n",
      "|2018-01-20| 6148|\n",
      "+----------+-----+\n",
      "only showing top 20 rows\n",
      "\n"
     ]
    }
   ],
   "source": [
    "from pyspark.sql.types import StructField, StructType, StringType, LongType\n",
    "\n",
    "myBikeSchema = StructType([\n",
    "    StructField(\"DATE\", StringType(), True),\n",
    "    StructField(\"COUNT\", LongType(), True)\n",
    "])\n",
    "\n",
    "df = spark.read.format('csv')\\\n",
    "    .option(\"header\",'True')\\\n",
    "    .option(\"encoding\", \"utf-8\")\\\n",
    "    .schema(myBikeSchema)\\\n",
    "    .load('data/seoul_bike.csv')\n",
    "df.show()"
   ]
  },
  {
   "cell_type": "markdown",
   "metadata": {},
   "source": [
    "### 문제 1-1: 년도별 대여건수 합계"
   ]
  },
  {
   "cell_type": "code",
   "execution_count": 3,
   "metadata": {},
   "outputs": [
    {
     "name": "stdout",
     "output_type": "stream",
     "text": [
      "+----+----------+\n",
      "|year|sum(count)|\n",
      "+----+----------+\n",
      "|2019|   1871935|\n",
      "|2018|  10124874|\n",
      "+----+----------+\n",
      "\n"
     ]
    }
   ],
   "source": [
    "from pyspark.sql.functions import udf\n",
    "from pyspark.sql.types import StringType\n",
    "\n",
    "year_udf = udf(lambda x: x[10:12],StringType())\n",
    "year_df = df.withColumn(\"year\",year_udf(df.DATE))\n",
    "year_df.groupBy('year').agg({\"count\":\"sum\"}).show()"
   ]
  },
  {
   "cell_type": "markdown",
   "metadata": {},
   "source": [
    "### 문제 1-2: 년도별, 월별 대여건수 합계"
   ]
  },
  {
   "cell_type": "code",
   "execution_count": 4,
   "metadata": {},
   "outputs": [
    {
     "name": "stdout",
     "output_type": "stream",
     "text": [
      "+----+------+------+------+------+------+-------+-------+-------+-------+-------+------+------+\n",
      "|year|    01|    02|    03|    04|    05|     06|     07|     08|     09|     10|    11|    12|\n",
      "+----+------+------+------+------+------+-------+-------+-------+-------+-------+------+------+\n",
      "|2019|495573|471543|904819|  null|  null|   null|   null|   null|   null|   null|  null|  null|\n",
      "|2018|164367|168741|462661|687885|965609|1207123|1100015|1037505|1447993|1420621|961532|500822|\n",
      "+----+------+------+------+------+------+-------+-------+-------+-------+-------+------+------+\n",
      "\n"
     ]
    }
   ],
   "source": [
    "from pyspark.sql.functions import udf\n",
    "from pyspark.sql.types import StringType\n",
    "\n",
    "year_udf = udf(lambda x: x[:4],StringType())\n",
    "month_udf = udf(lambda x: x[5:7],StringType())\n",
    "df = df.withColumn(\"year\",year_udf(df.DATE)).withColumn(\"month\",month_udf(df.DATE))\n",
    "df.groupBy('year').pivot('month').agg({\"count\":\"sum\"}).show()"
   ]
  },
  {
   "cell_type": "markdown",
   "metadata": {},
   "source": [
    "### 문제 1-3: 년도별, 월별 대여건수 그래프"
   ]
  }
 ],
 "metadata": {
  "kernelspec": {
   "display_name": "Python 3",
   "language": "python",
   "name": "python3"
  },
  "language_info": {
   "codemirror_mode": {
    "name": "ipython",
    "version": 3
   },
   "file_extension": ".py",
   "mimetype": "text/x-python",
   "name": "python",
   "nbconvert_exporter": "python",
   "pygments_lexer": "ipython3",
   "version": "3.8.3"
  }
 },
 "nbformat": 4,
 "nbformat_minor": 4
}

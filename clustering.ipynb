{
 "cells": [
  {
   "cell_type": "markdown",
   "metadata": {},
   "source": [
    "# 문제 연설문을 기계학습하기 위해 변환"
   ]
  },
  {
   "cell_type": "markdown",
   "metadata": {},
   "source": [
    "## pyspark 기본 셋팅"
   ]
  },
  {
   "cell_type": "code",
   "execution_count": 1,
   "metadata": {},
   "outputs": [],
   "source": [
    "import os\n",
    "import pyspark\n",
    "\n",
    "myConf=pyspark.SparkConf()\n",
    "spark = pyspark.sql.SparkSession\\\n",
    "    .builder\\\n",
    "    .master(\"local\")\\\n",
    "    .appName(\"myApp\")\\\n",
    "    .config(conf=myConf)\\\n",
    "    .getOrCreate()"
   ]
  },
  {
   "cell_type": "markdown",
   "metadata": {},
   "source": [
    "### 함수 정의"
   ]
  },
  {
   "cell_type": "code",
   "execution_count": 2,
   "metadata": {},
   "outputs": [],
   "source": [
    "def normDist(x1, x2):\n",
    "    dist = np.linalg.norm(x1 - x2)\n",
    "    return dist"
   ]
  },
  {
   "cell_type": "code",
   "execution_count": 7,
   "metadata": {},
   "outputs": [],
   "source": [
    "def cluster(x, k, centroids):\n",
    "    row, col = x.shape\n",
    "    clusterAssigned = np.zeros(shape=(row, k), dtype=float)\n",
    "    clusterUpdated=True\n",
    "    iter = 1\n",
    "    while(clusterUpdated):\n",
    "        print (\"\\n\\n====== Iteration {} ======\".format(iter))\n",
    "        for i in range(row):\n",
    "            minDist = np.inf   \n",
    "            minIndex = -1      \n",
    "            for j in range(k):\n",
    "                distJI = normDist(centroids[j], x[i])\n",
    "                if distJI < minDist:\n",
    "                    minDist = distJI\n",
    "                    minIndex = j\n",
    "            print (\".....Assigning {} to {}th centroid by {:.3f}\".format(x[i], minIndex, minDist))\n",
    "            clusterAssigned[i] = [minIndex, minDist]\n",
    "        print (\"\\n.....Assigned clusters: \\n {}\".format(clusterAssigned))\n",
    "        _centroids=np.zeros(shape = (k, x.shape[1]), dtype=float)\n",
    "        for cent in range(k):\n",
    "            _centroids[cent] = np.mean(x[clusterAssigned[:,0]==cent],axis=0)\n",
    "        comparison = np.equal(centroids, _centroids)\n",
    "        if(comparison.all() == True):\n",
    "            print (\"\\n.....NOT Updating Centroids\\n {} => \\n{}\".format(centroids, _centroids))\n",
    "            clusterUpdated = False\n",
    "            return centroids, clusterAssigned\n",
    "        else:\n",
    "            print (\"\\n.....Updating Centroids\\n {} => \\n{}\".format(centroids, _centroids))\n",
    "            centroids = _centroids\n",
    "            iter += 1"
   ]
  },
  {
   "cell_type": "code",
   "execution_count": 4,
   "metadata": {},
   "outputs": [],
   "source": [
    "def draw(x, centroids):\n",
    "    import matplotlib.pyplot as plt\n",
    "    plt.scatter(x[:,0], x[:,1], color='blue')\n",
    "    plt.scatter(centroids[:,0], centroids[:,1], color='red')"
   ]
  },
  {
   "cell_type": "markdown",
   "metadata": {},
   "source": [
    "### 클러스터링 실행"
   ]
  },
  {
   "cell_type": "code",
   "execution_count": 12,
   "metadata": {
    "scrolled": true
   },
   "outputs": [
    {
     "data": {
      "text/plain": [
       "(array([[ 6.69786996e-01,  3.59540802e+00],\n",
       "        [-2.02396992e+00,  7.99569054e+00],\n",
       "        [ 1.43289271e+00,  4.37679234e+00],\n",
       "        [ 1.06923853e+00,  4.53068484e+00],\n",
       "        [ 1.71444449e+00,  5.02521524e+00],\n",
       "        [ 7.43873988e-01,  4.12240568e+00],\n",
       "        [-2.04363942e+00,  4.06392123e+00],\n",
       "        [-6.78603291e-01,  7.88799076e+00],\n",
       "        [-4.74920358e-02,  5.47425256e+00],\n",
       "        [-1.46976488e+00,  7.69183251e+00],\n",
       "        [-8.64176859e-01,  6.86528639e+00],\n",
       "        [-1.84838498e+00,  6.90859736e+00],\n",
       "        [-1.27182547e+00,  7.13460392e+00],\n",
       "        [-9.34289778e-01,  7.73253222e+00],\n",
       "        [-7.34157408e-01,  7.44484466e+00],\n",
       "        [ 3.18515794e+00,  8.90082233e-02],\n",
       "        [ 1.35139348e+00,  2.06383637e+00],\n",
       "        [-9.70171483e-02,  3.48456995e+00],\n",
       "        [-1.93150361e+00,  2.93698060e+00],\n",
       "        [ 2.73890793e+00,  1.56768168e-01],\n",
       "        [ 2.33812285e+00,  3.43116792e+00],\n",
       "        [-1.93673697e+00,  7.57276799e+00],\n",
       "        [-1.98885366e+00,  3.24143178e+00],\n",
       "        [ 2.33466499e+00, -2.40825518e-02],\n",
       "        [ 4.38990142e-01,  4.53592883e+00],\n",
       "        [-1.58597553e+00,  2.51979529e+00],\n",
       "        [-3.73138797e-01,  3.80619114e+00],\n",
       "        [ 7.67522789e-01,  4.39759671e+00],\n",
       "        [ 2.94821884e+00,  2.03519717e+00],\n",
       "        [ 2.76253526e+00,  7.89708758e-01],\n",
       "        [ 1.65179125e+00,  6.81931763e-01],\n",
       "        [-8.73116904e-01,  6.87422542e+00],\n",
       "        [ 2.16172321e+00,  6.56595098e-01],\n",
       "        [ 2.06156753e+00,  1.96918596e+00],\n",
       "        [-1.15845639e+00,  3.47120626e+00],\n",
       "        [ 1.16411070e+00,  3.79132988e+00],\n",
       "        [-1.54707525e+00,  8.99317925e+00],\n",
       "        [ 1.81336135e+00,  1.63113070e+00],\n",
       "        [ 4.96857948e-02,  8.63737679e+00],\n",
       "        [-1.97375691e+00,  2.42201914e+00],\n",
       "        [ 1.06269622e+00,  5.17635143e+00],\n",
       "        [-1.42689992e+00,  3.29890112e+00],\n",
       "        [-1.63442682e+00,  6.50141812e+00],\n",
       "        [-2.07459735e+00,  3.58809203e+00],\n",
       "        [-1.94364473e+00,  2.82810154e+00],\n",
       "        [-1.98351709e+00,  8.34207780e+00],\n",
       "        [ 1.53278923e+00,  5.50353861e-01],\n",
       "        [-1.90841166e+00,  3.32374224e+00],\n",
       "        [ 6.70478769e-01,  4.04094275e+00],\n",
       "        [ 4.43598630e-01,  3.11530945e+00],\n",
       "        [ 2.24592863e-01,  4.77028154e+00],\n",
       "        [ 1.86833600e+00,  9.31362865e-01],\n",
       "        [-1.18094952e+00,  2.79290301e+00],\n",
       "        [-1.78799614e+00,  4.02744050e+00],\n",
       "        [-8.50922460e-01,  2.26992336e+00],\n",
       "        [-1.26285145e+00,  7.39264147e+00],\n",
       "        [-7.85181444e-01,  8.32956251e+00],\n",
       "        [ 2.49272186e+00,  9.75053406e-01],\n",
       "        [ 2.26908736e+00,  1.32160756e+00],\n",
       "        [-5.35437899e-01,  8.02562558e+00],\n",
       "        [-1.46065212e+00,  7.01048924e+00],\n",
       "        [ 1.41281595e+00,  1.53033470e+00],\n",
       "        [ 2.13141478e+00,  1.13885728e+00],\n",
       "        [ 1.89593761e+00,  5.18540259e+00],\n",
       "        [ 1.29297652e+00,  1.47930168e+00],\n",
       "        [-5.88460017e-01,  8.22861825e+00],\n",
       "        [-2.31644846e+00,  2.64093150e+00],\n",
       "        [-1.28929999e+00,  2.26204536e+00],\n",
       "        [ 2.18023251e+00,  1.48364708e+00],\n",
       "        [ 1.24258802e+00,  4.50399192e+00],\n",
       "        [-1.86880148e+00,  8.24441673e+00],\n",
       "        [ 1.35617762e+00,  1.43815955e+00],\n",
       "        [ 9.14338767e-01,  4.55014643e+00],\n",
       "        [-1.52157528e+00,  7.84594751e+00],\n",
       "        [ 1.00372519e+00,  4.19147702e+00],\n",
       "        [ 1.49493180e+00,  3.85848832e+00],\n",
       "        [-4.06368637e-01,  3.46150906e+00],\n",
       "        [-1.68770604e+00,  3.39935610e+00],\n",
       "        [ 2.29667251e+00,  4.86777605e-01],\n",
       "        [ 1.07714851e+00,  1.17533301e+00],\n",
       "        [ 1.56737975e+00, -1.38105901e-01],\n",
       "        [-1.69199357e+00,  8.76126877e+00],\n",
       "        [-1.34796111e+00,  3.71371380e+00],\n",
       "        [ 7.93137001e-03,  4.17614316e+00],\n",
       "        [ 1.67467427e+00,  6.80018960e-01],\n",
       "        [-9.58552833e-01,  2.82487621e+00],\n",
       "        [ 1.51088850e+00,  9.28830897e-01],\n",
       "        [ 1.80709613e+00,  4.49190773e-01],\n",
       "        [ 1.87271752e+00,  4.18069237e+00],\n",
       "        [ 1.01618041e+00,  4.48527047e+00],\n",
       "        [ 9.59360742e-01,  4.56078645e+00],\n",
       "        [-1.30104869e+00,  2.25824179e+00],\n",
       "        [ 3.47138300e-01,  3.45177657e+00],\n",
       "        [-1.12352716e+00,  3.16235936e+00],\n",
       "        [-2.42165857e+00,  3.18151728e+00],\n",
       "        [-1.91088578e+00,  7.86675906e+00],\n",
       "        [-1.73030157e+00,  7.42173015e+00],\n",
       "        [-1.56784898e+00,  3.94588789e+00],\n",
       "        [-6.95740480e-01,  8.02669661e+00],\n",
       "        [-5.55523811e-01,  4.69595848e+00]]),\n",
       " array([0, 3, 0, 0, 0, 0, 2, 3, 0, 3, 3, 3, 3, 3, 3, 1, 1, 2, 2, 1, 0, 3,\n",
       "        2, 1, 0, 2, 2, 0, 1, 1, 1, 3, 1, 1, 2, 0, 3, 1, 3, 2, 0, 2, 3, 2,\n",
       "        2, 3, 1, 2, 0, 0, 0, 1, 2, 2, 2, 3, 3, 1, 1, 3, 3, 1, 1, 0, 1, 3,\n",
       "        2, 2, 1, 0, 3, 1, 0, 3, 0, 0, 2, 2, 1, 1, 1, 3, 2, 0, 1, 2, 1, 1,\n",
       "        0, 0, 0, 2, 0, 2, 2, 3, 3, 2, 3, 0]))"
      ]
     },
     "execution_count": 12,
     "metadata": {},
     "output_type": "execute_result"
    }
   ],
   "source": [
    "from sklearn.datasets import make_blobs\n",
    "import numpy as np\n",
    "\n",
    "X, y = make_blobs(n_samples=100, centers=4, cluster_std=0.60, random_state=0)\n",
    "import matplotlib.pyplot as plt\n",
    "X, y"
   ]
  },
  {
   "cell_type": "code",
   "execution_count": null,
   "metadata": {},
   "outputs": [],
   "source": []
  }
 ],
 "metadata": {
  "kernelspec": {
   "display_name": "Python 3",
   "language": "python",
   "name": "python3"
  },
  "language_info": {
   "codemirror_mode": {
    "name": "ipython",
    "version": 3
   },
   "file_extension": ".py",
   "mimetype": "text/x-python",
   "name": "python",
   "nbconvert_exporter": "python",
   "pygments_lexer": "ipython3",
   "version": "3.8.3"
  }
 },
 "nbformat": 4,
 "nbformat_minor": 4
}

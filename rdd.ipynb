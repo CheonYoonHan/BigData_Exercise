{
 "cells": [
  {
   "cell_type": "code",
   "execution_count": 27,
   "metadata": {},
   "outputs": [],
   "source": [
    "spark = pyspark.sql.SparkSession.builder.getOrCreate()"
   ]
  },
  {
   "cell_type": "code",
   "execution_count": 28,
   "metadata": {},
   "outputs": [],
   "source": [
    "import pyspark\n",
    "\n",
    "#???myConf = (SparkConf().set(\"spark.executor.cores\", \"3\"))\n",
    "myConf=pyspark.SparkConf()\n",
    "spark = pyspark.sql.SparkSession\\\n",
    "    .builder\\\n",
    "    .master(\"local\")\\\n",
    "    .appName(\"myApp\")\\\n",
    "    .config(conf=myConf)\\\n",
    "    .getOrCreate()"
   ]
  },
  {
   "cell_type": "code",
   "execution_count": 29,
   "metadata": {},
   "outputs": [
    {
     "name": "stdout",
     "output_type": "stream",
     "text": [
      "['�������,�α���(��),�α���(��),�α���(��),������(��),������(��),������(��),����,�����,������α�,���������,�����μ���,�μ���ȭ��ȣ,�����ͱ�������', '������1��       ,31467 ,16077 ,15390 ,6.89,3.52,3.37,104.46,19109 ,1.65,�����ν�,�ùκ����,031-828-2464,2020-09-04', '������2��       ,31440 ,15573 ,15867 ,6.88,3.41,3.47,98.15,15763 ,1.99,�����ν�,�ùκ����,031-828-2464,2020-09-04', 'ȣ��1��         ,36282 ,17751 ,18531 ,7.95,3.89,4.06,95.79,15508 ,2.34,�����ν�,�ùκ����,031-828-2464,2020-09-04', 'ȣ��2��         ,35443 ,17196 ,18247 ,7.76,3.77,4,94.24,13509 ,2.62,�����ν�,�ùκ����,031-828-2464,2020-09-04']\n"
     ]
    }
   ],
   "source": [
    "import os\n",
    "myRdd1 = spark.sparkContext\\\n",
    "    .textFile(os.path.join(\"data\",\"euijeongbu.csv\"))\n",
    "print (myRdd1.take(5))"
   ]
  },
  {
   "cell_type": "code",
   "execution_count": 30,
   "metadata": {},
   "outputs": [
    {
     "name": "stdout",
     "output_type": "stream",
     "text": [
      "['������,�������� �α���,65���̻� �α��� ,0~14�� �α���,���ȭ����,���ȭ����,�����ͱ�������', '2012,154057,25826,22861,16.76,112.97,2020-06-23', '2013,155641,26936,22393,17.31,120.29,2020-06-23', '2014,158512,27877,22058,17.59,126.38,2020-06-23', '2015,164519,28979,22362,17.61,129.59,2020-06-23']\n"
     ]
    }
   ],
   "source": [
    "myRdd2 = spark.sparkContext\\\n",
    "    .textFile(os.path.join(\"data\",\"jeju.csv\"))\n",
    "print (myRdd2.take(5))"
   ]
  },
  {
   "cell_type": "code",
   "execution_count": 31,
   "metadata": {},
   "outputs": [],
   "source": [
    "#한글이 깨져보이는 이유: 인코딩 방식의 차이 때문이다."
   ]
  },
  {
   "cell_type": "code",
   "execution_count": null,
   "metadata": {},
   "outputs": [],
   "source": []
  }
 ],
 "metadata": {
  "kernelspec": {
   "display_name": "Python 3",
   "language": "python",
   "name": "python3"
  },
  "language_info": {
   "codemirror_mode": {
    "name": "ipython",
    "version": 3
   },
   "file_extension": ".py",
   "mimetype": "text/x-python",
   "name": "python",
   "nbconvert_exporter": "python",
   "pygments_lexer": "ipython3",
   "version": "3.8.3"
  }
 },
 "nbformat": 4,
 "nbformat_minor": 4
}

{
 "cells": [
  {
   "cell_type": "markdown",
   "metadata": {},
   "source": [
    "# 문제: zscore, cdf 계산"
   ]
  },
  {
   "cell_type": "markdown",
   "metadata": {},
   "source": [
    "## pyspark 기본 셋팅"
   ]
  },
  {
   "cell_type": "code",
   "execution_count": 1,
   "metadata": {},
   "outputs": [],
   "source": [
    "import os\n",
    "import pyspark\n",
    "\n",
    "myConf=pyspark.SparkConf()\n",
    "spark = pyspark.sql.SparkSession\\\n",
    "    .builder\\\n",
    "    .master(\"local\")\\\n",
    "    .appName(\"myApp\")\\\n",
    "    .config(conf=myConf)\\\n",
    "    .getOrCreate()"
   ]
  },
  {
   "cell_type": "markdown",
   "metadata": {},
   "source": [
    "### 1-1: 성적데이터로 DataFrame을 생성."
   ]
  },
  {
   "cell_type": "code",
   "execution_count": 3,
   "metadata": {},
   "outputs": [
    {
     "name": "stdout",
     "output_type": "stream",
     "text": [
      "root\n",
      " |-- NAME: string (nullable = true)\n",
      " |-- SUBJECT: string (nullable = true)\n",
      " |-- MARKS: float (nullable = true)\n",
      "\n"
     ]
    },
    {
     "data": {
      "text/html": [
       "<div>\n",
       "<style scoped>\n",
       "    .dataframe tbody tr th:only-of-type {\n",
       "        vertical-align: middle;\n",
       "    }\n",
       "\n",
       "    .dataframe tbody tr th {\n",
       "        vertical-align: top;\n",
       "    }\n",
       "\n",
       "    .dataframe thead th {\n",
       "        text-align: right;\n",
       "    }\n",
       "</style>\n",
       "<table border=\"1\" class=\"dataframe\">\n",
       "  <thead>\n",
       "    <tr style=\"text-align: right;\">\n",
       "      <th></th>\n",
       "      <th>NAME</th>\n",
       "      <th>SUBJECT</th>\n",
       "      <th>MARKS</th>\n",
       "    </tr>\n",
       "  </thead>\n",
       "  <tbody>\n",
       "    <tr>\n",
       "      <th>0</th>\n",
       "      <td>김하나</td>\n",
       "      <td>English</td>\n",
       "      <td>100.000000</td>\n",
       "    </tr>\n",
       "    <tr>\n",
       "      <th>1</th>\n",
       "      <td>김하나</td>\n",
       "      <td>Math</td>\n",
       "      <td>80.000000</td>\n",
       "    </tr>\n",
       "    <tr>\n",
       "      <th>2</th>\n",
       "      <td>임하나</td>\n",
       "      <td>English</td>\n",
       "      <td>70.000000</td>\n",
       "    </tr>\n",
       "    <tr>\n",
       "      <th>3</th>\n",
       "      <td>임하나</td>\n",
       "      <td>Math</td>\n",
       "      <td>100.000000</td>\n",
       "    </tr>\n",
       "    <tr>\n",
       "      <th>4</th>\n",
       "      <td>김갑돌</td>\n",
       "      <td>English</td>\n",
       "      <td>82.300003</td>\n",
       "    </tr>\n",
       "    <tr>\n",
       "      <th>5</th>\n",
       "      <td>김갑돌</td>\n",
       "      <td>Math</td>\n",
       "      <td>98.500000</td>\n",
       "    </tr>\n",
       "  </tbody>\n",
       "</table>\n",
       "</div>"
      ],
      "text/plain": [
       "  NAME  SUBJECT       MARKS\n",
       "0  김하나  English  100.000000\n",
       "1  김하나     Math   80.000000\n",
       "2  임하나  English   70.000000\n",
       "3  임하나     Math  100.000000\n",
       "4  김갑돌  English   82.300003\n",
       "5  김갑돌     Math   98.500000"
      ]
     },
     "execution_count": 3,
     "metadata": {},
     "output_type": "execute_result"
    }
   ],
   "source": [
    "from pyspark.sql.types import StructField, StructType, StringType, FloatType\n",
    "import numpy as np\n",
    "import pandas as pd\n",
    "\n",
    "marks = [\n",
    "    ('김하나','English', 100.0),\n",
    "    ('김하나','Math', 80.0),\n",
    "    ('임하나','English', 70.0),\n",
    "    ('임하나','Math', 100.0),\n",
    "    ('김갑돌','English', 82.3),\n",
    "    ('김갑돌','Math', 98.5)\n",
    "]\n",
    "\n",
    "marksRdd = spark.sparkContext.parallelize(marks)\n",
    "\n",
    "marksSchema = StructType([\n",
    "    StructField(\"NAME\", StringType(), True),\n",
    "    StructField(\"SUBJECT\", StringType(), True),\n",
    "    StructField(\"MARKS\", FloatType(), True)\n",
    "])\n",
    "\n",
    "marksDf = spark.createDataFrame(marksRdd, marksSchema)\n",
    "\n",
    "marksDf.printSchema()\n",
    "\n",
    "marksDf=marksDf.toPandas()\n",
    "marksDf"
   ]
  },
  {
   "cell_type": "markdown",
   "metadata": {},
   "source": [
    "### 1-2 zscore 컬럼을 생성."
   ]
  },
  {
   "cell_type": "code",
   "execution_count": 4,
   "metadata": {},
   "outputs": [],
   "source": [
    "from scipy import stats"
   ]
  },
  {
   "cell_type": "code",
   "execution_count": 5,
   "metadata": {},
   "outputs": [
    {
     "data": {
      "text/html": [
       "<div>\n",
       "<style scoped>\n",
       "    .dataframe tbody tr th:only-of-type {\n",
       "        vertical-align: middle;\n",
       "    }\n",
       "\n",
       "    .dataframe tbody tr th {\n",
       "        vertical-align: top;\n",
       "    }\n",
       "\n",
       "    .dataframe thead th {\n",
       "        text-align: right;\n",
       "    }\n",
       "</style>\n",
       "<table border=\"1\" class=\"dataframe\">\n",
       "  <thead>\n",
       "    <tr style=\"text-align: right;\">\n",
       "      <th></th>\n",
       "      <th>NAME</th>\n",
       "      <th>SUBJECT</th>\n",
       "      <th>MARKS</th>\n",
       "      <th>zscore</th>\n",
       "    </tr>\n",
       "  </thead>\n",
       "  <tbody>\n",
       "    <tr>\n",
       "      <th>0</th>\n",
       "      <td>김하나</td>\n",
       "      <td>English</td>\n",
       "      <td>100.000000</td>\n",
       "      <td>0.988108</td>\n",
       "    </tr>\n",
       "    <tr>\n",
       "      <th>1</th>\n",
       "      <td>김하나</td>\n",
       "      <td>Math</td>\n",
       "      <td>80.000000</td>\n",
       "      <td>-0.725374</td>\n",
       "    </tr>\n",
       "    <tr>\n",
       "      <th>2</th>\n",
       "      <td>임하나</td>\n",
       "      <td>English</td>\n",
       "      <td>70.000000</td>\n",
       "      <td>-1.582115</td>\n",
       "    </tr>\n",
       "    <tr>\n",
       "      <th>3</th>\n",
       "      <td>임하나</td>\n",
       "      <td>Math</td>\n",
       "      <td>100.000000</td>\n",
       "      <td>0.988108</td>\n",
       "    </tr>\n",
       "    <tr>\n",
       "      <th>4</th>\n",
       "      <td>김갑돌</td>\n",
       "      <td>English</td>\n",
       "      <td>82.300003</td>\n",
       "      <td>-0.528323</td>\n",
       "    </tr>\n",
       "    <tr>\n",
       "      <th>5</th>\n",
       "      <td>김갑돌</td>\n",
       "      <td>Math</td>\n",
       "      <td>98.500000</td>\n",
       "      <td>0.859597</td>\n",
       "    </tr>\n",
       "  </tbody>\n",
       "</table>\n",
       "</div>"
      ],
      "text/plain": [
       "  NAME  SUBJECT       MARKS    zscore\n",
       "0  김하나  English  100.000000  0.988108\n",
       "1  김하나     Math   80.000000 -0.725374\n",
       "2  임하나  English   70.000000 -1.582115\n",
       "3  임하나     Math  100.000000  0.988108\n",
       "4  김갑돌  English   82.300003 -0.528323\n",
       "5  김갑돌     Math   98.500000  0.859597"
      ]
     },
     "execution_count": 5,
     "metadata": {},
     "output_type": "execute_result"
    }
   ],
   "source": [
    "X=marksDf['MARKS']\n",
    "zs=stats.zscore(X)\n",
    "marksDf['zscore']=zs\n",
    "marksDf"
   ]
  },
  {
   "cell_type": "markdown",
   "metadata": {},
   "source": [
    "### 1-3 cdf 컬럼을 생성."
   ]
  },
  {
   "cell_type": "code",
   "execution_count": 6,
   "metadata": {},
   "outputs": [
    {
     "data": {
      "text/html": [
       "<div>\n",
       "<style scoped>\n",
       "    .dataframe tbody tr th:only-of-type {\n",
       "        vertical-align: middle;\n",
       "    }\n",
       "\n",
       "    .dataframe tbody tr th {\n",
       "        vertical-align: top;\n",
       "    }\n",
       "\n",
       "    .dataframe thead th {\n",
       "        text-align: right;\n",
       "    }\n",
       "</style>\n",
       "<table border=\"1\" class=\"dataframe\">\n",
       "  <thead>\n",
       "    <tr style=\"text-align: right;\">\n",
       "      <th></th>\n",
       "      <th>NAME</th>\n",
       "      <th>SUBJECT</th>\n",
       "      <th>MARKS</th>\n",
       "      <th>zscore</th>\n",
       "      <th>cdf</th>\n",
       "    </tr>\n",
       "  </thead>\n",
       "  <tbody>\n",
       "    <tr>\n",
       "      <th>0</th>\n",
       "      <td>김하나</td>\n",
       "      <td>English</td>\n",
       "      <td>100.000000</td>\n",
       "      <td>0.988108</td>\n",
       "      <td>0.5</td>\n",
       "    </tr>\n",
       "    <tr>\n",
       "      <th>1</th>\n",
       "      <td>김하나</td>\n",
       "      <td>Math</td>\n",
       "      <td>80.000000</td>\n",
       "      <td>-0.725374</td>\n",
       "      <td>0.5</td>\n",
       "    </tr>\n",
       "    <tr>\n",
       "      <th>2</th>\n",
       "      <td>임하나</td>\n",
       "      <td>English</td>\n",
       "      <td>70.000000</td>\n",
       "      <td>-1.582115</td>\n",
       "      <td>0.5</td>\n",
       "    </tr>\n",
       "    <tr>\n",
       "      <th>3</th>\n",
       "      <td>임하나</td>\n",
       "      <td>Math</td>\n",
       "      <td>100.000000</td>\n",
       "      <td>0.988108</td>\n",
       "      <td>0.5</td>\n",
       "    </tr>\n",
       "    <tr>\n",
       "      <th>4</th>\n",
       "      <td>김갑돌</td>\n",
       "      <td>English</td>\n",
       "      <td>82.300003</td>\n",
       "      <td>-0.528323</td>\n",
       "      <td>0.5</td>\n",
       "    </tr>\n",
       "    <tr>\n",
       "      <th>5</th>\n",
       "      <td>김갑돌</td>\n",
       "      <td>Math</td>\n",
       "      <td>98.500000</td>\n",
       "      <td>0.859597</td>\n",
       "      <td>0.5</td>\n",
       "    </tr>\n",
       "  </tbody>\n",
       "</table>\n",
       "</div>"
      ],
      "text/plain": [
       "  NAME  SUBJECT       MARKS    zscore  cdf\n",
       "0  김하나  English  100.000000  0.988108  0.5\n",
       "1  김하나     Math   80.000000 -0.725374  0.5\n",
       "2  임하나  English   70.000000 -1.582115  0.5\n",
       "3  임하나     Math  100.000000  0.988108  0.5\n",
       "4  김갑돌  English   82.300003 -0.528323  0.5\n",
       "5  김갑돌     Math   98.500000  0.859597  0.5"
      ]
     },
     "execution_count": 6,
     "metadata": {},
     "output_type": "execute_result"
    }
   ],
   "source": [
    "from scipy.stats import norm\n",
    "\n",
    "marksDf['cdf']=norm.cdf(0, loc=0, scale=1)\n",
    "marksDf"
   ]
  },
  {
   "cell_type": "code",
   "execution_count": null,
   "metadata": {},
   "outputs": [],
   "source": []
  }
 ],
 "metadata": {
  "kernelspec": {
   "display_name": "Python 3",
   "language": "python",
   "name": "python3"
  },
  "language_info": {
   "codemirror_mode": {
    "name": "ipython",
    "version": 3
   },
   "file_extension": ".py",
   "mimetype": "text/x-python",
   "name": "python",
   "nbconvert_exporter": "python",
   "pygments_lexer": "ipython3",
   "version": "3.8.3"
  }
 },
 "nbformat": 4,
 "nbformat_minor": 4
}
